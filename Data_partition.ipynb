{
  "cells": [
    {
      "cell_type": "code",
      "execution_count": null,
      "metadata": {
        "id": "qsOm8upDWVPs"
      },
      "outputs": [],
      "source": [
        "%pip install patool"
      ]
    },
    {
      "cell_type": "code",
      "execution_count": null,
      "metadata": {
        "id": "s_QjWGHIYJUf"
      },
      "outputs": [],
      "source": [
        "import patoolib\n",
        "\n",
        "patoolib.extract_archive(\"/content/Face dataset.rar\", outdir=\"/content/\")"
      ]
    },
    {
      "cell_type": "code",
      "execution_count": null,
      "metadata": {
        "id": "oykELBTvYvcN"
      },
      "outputs": [],
      "source": [
        "import kagglehub\n",
        "\n",
        "# Download latest version\n",
        "path = kagglehub.dataset_download(\"kaustubhdhote/human-faces-dataset\")\n",
        "\n",
        "print(\"Path to dataset files:\", path)"
      ]
    },
    {
      "cell_type": "code",
      "execution_count": null,
      "metadata": {
        "id": "z5JA5Y4ZZD7f"
      },
      "outputs": [],
      "source": [
        "import os\n",
        "\n",
        "directory = '/kaggle/input/human-faces-dataset/Human Faces Dataset/Real Images'\n",
        "if not os.path.exists(directory):\n",
        "    print(f\"Directory '{directory}' does not exist.\")\n",
        "else:\n",
        "    num_files = sum(len(files) for _, _, files in os.walk(directory))\n",
        "    print(f\"Number of files in '{directory}': {num_files}\")"
      ]
    },
    {
      "cell_type": "code",
      "execution_count": null,
      "metadata": {
        "id": "ePFMIihGZX9d"
      },
      "outputs": [],
      "source": [
        "import os\n",
        "import shutil\n",
        "\n",
        "# Specify the source and destination folder paths\n",
        "source_folders = ['/content/daylight', '/content/dim_light', '/content/room_light', '/content/room_light_shade']\n",
        "destination_folder = '/content/Ishan'\n",
        "\n",
        "# Create the destination folder if it doesn't exist\n",
        "os.makedirs(destination_folder, exist_ok=True)\n",
        "\n",
        "for source_folder in source_folders:\n",
        "    os.chdir(source_folder)\n",
        "    for file in os.listdir():\n",
        "        # Create a new filename by including the original folder name\n",
        "        new_filename = f\"{os.path.basename(source_folder)}_{file}\"\n",
        "        source_path = os.path.join(source_folder, file)\n",
        "        destination_path = os.path.join(destination_folder, new_filename)\n",
        "        shutil.copy2(source_path, destination_path)"
      ]
    },
    {
      "cell_type": "code",
      "execution_count": null,
      "metadata": {
        "id": "FnOGyBrKaFQ_"
      },
      "outputs": [],
      "source": [
        "import os\n",
        "\n",
        "directory = '/content/not Ishan'\n",
        "if not os.path.exists(directory):\n",
        "    print(f\"Directory '{directory}' does not exist.\")\n",
        "else:\n",
        "    num_files = sum(len(files) for _, _, files in os.walk(directory))\n",
        "    print(f\"Number of files in '{directory}': {num_files}\")"
      ]
    },
    {
      "cell_type": "code",
      "execution_count": null,
      "metadata": {
        "id": "QKAJgSO0aF25"
      },
      "outputs": [],
      "source": [
        "# creates a directory named not Ishan inside the /content/ directory using the mkdir command and then copies all the contents of original data into new directory\n",
        "!mkdir /content/not\\ Ishan\n",
        "!cp '/kaggle/input/human-faces-dataset/Human Faces Dataset/Real Images'/* '/content/not Ishan'/"
      ]
    },
    {
      "cell_type": "code",
      "execution_count": null,
      "metadata": {
        "id": "jePEDfUqfHSb"
      },
      "outputs": [],
      "source": []
    }
  ],
  "metadata": {
    "colab": {
      "provenance": []
    },
    "kernelspec": {
      "display_name": "Python 3",
      "name": "python3"
    },
    "language_info": {
      "name": "python"
    }
  },
  "nbformat": 4,
  "nbformat_minor": 0
}
