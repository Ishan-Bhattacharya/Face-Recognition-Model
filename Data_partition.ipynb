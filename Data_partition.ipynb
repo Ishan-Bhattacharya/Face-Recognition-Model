{
  "cells": [
    {
      "cell_type": "code",
      "execution_count": null,
      "metadata": {
        "colab": {
          "base_uri": "https://localhost:8080/"
        },
        "id": "qsOm8upDWVPs",
        "outputId": "3a1e0800-3ba0-4701-9d65-9d0ec632185d"
      },
      "outputs": [
        {
          "name": "stdout",
          "output_type": "stream",
          "text": [
            "Collecting patool\n",
            "  Downloading patool-4.0.1-py2.py3-none-any.whl.metadata (4.5 kB)\n",
            "Downloading patool-4.0.1-py2.py3-none-any.whl (86 kB)\n",
            "\u001b[?25l   \u001b[90m━━━━━━━━━━━━━━━━━━━━━━━━━━━━━━━━━━━━━━━━\u001b[0m \u001b[32m0.0/86.5 kB\u001b[0m \u001b[31m?\u001b[0m eta \u001b[36m-:--:--\u001b[0m\r\u001b[2K   \u001b[90m━━━━━━━━━━━━━━━━━━━━━━━━━━━━━━━━━━━━━━━━\u001b[0m \u001b[32m86.5/86.5 kB\u001b[0m \u001b[31m5.9 MB/s\u001b[0m eta \u001b[36m0:00:00\u001b[0m\n",
            "\u001b[?25hInstalling collected packages: patool\n",
            "Successfully installed patool-4.0.1\n"
          ]
        }
      ],
      "source": [
        "!pip install patool"
      ]
    },
    {
      "cell_type": "code",
      "execution_count": null,
      "metadata": {
        "colab": {
          "base_uri": "https://localhost:8080/",
          "height": 140
        },
        "id": "s_QjWGHIYJUf",
        "outputId": "f5664d97-c35e-438d-e567-cfb56654d87a"
      },
      "outputs": [
        {
          "name": "stderr",
          "output_type": "stream",
          "text": [
            "INFO patool: Extracting /content/Face dataset.rar ...\n",
            "INFO:patool:Extracting /content/Face dataset.rar ...\n",
            "INFO patool: running /usr/bin/unrar x -kb -or -- \"/content/Face dataset.rar\"\n",
            "INFO:patool:running /usr/bin/unrar x -kb -or -- \"/content/Face dataset.rar\"\n",
            "INFO patool: ... /content/Face dataset.rar extracted to `/content/'.\n",
            "INFO:patool:... /content/Face dataset.rar extracted to `/content/'.\n"
          ]
        },
        {
          "data": {
            "application/vnd.google.colaboratory.intrinsic+json": {
              "type": "string"
            },
            "text/plain": [
              "'/content/'"
            ]
          },
          "execution_count": 3,
          "metadata": {},
          "output_type": "execute_result"
        }
      ],
      "source": [
        "import patoolib\n",
        "\n",
        "patoolib.extract_archive(\"/content/Face dataset.rar\", outdir=\"/content/\")"
      ]
    },
    {
      "cell_type": "code",
      "execution_count": null,
      "metadata": {
        "colab": {
          "base_uri": "https://localhost:8080/"
        },
        "id": "htI1YspeYhb0",
        "outputId": "79da42e5-080f-4be7-99ab-2d937fafceb4"
      },
      "outputs": [
        {
          "name": "stdout",
          "output_type": "stream",
          "text": [
            "Number of files in '/content/daylight': 1250\n"
          ]
        }
      ],
      "source": [
        "import os\n",
        "\n",
        "directory = '/content/daylight'\n",
        "if not os.path.exists(directory):\n",
        "    print(f\"Directory '{directory}' does not exist.\")\n",
        "else:\n",
        "    num_files = sum(len(files) for _, _, files in os.walk(directory))\n",
        "    print(f\"Number of files in '{directory}': {num_files}\")"
      ]
    },
    {
      "cell_type": "code",
      "execution_count": null,
      "metadata": {
        "colab": {
          "base_uri": "https://localhost:8080/"
        },
        "id": "oykELBTvYvcN",
        "outputId": "6c230e85-dcc6-4f4b-83d0-790cd1603dc3"
      },
      "outputs": [
        {
          "name": "stdout",
          "output_type": "stream",
          "text": [
            "Path to dataset files: /kaggle/input/human-faces-dataset\n"
          ]
        }
      ],
      "source": [
        "import kagglehub\n",
        "\n",
        "# Download latest version\n",
        "path = kagglehub.dataset_download(\"kaustubhdhote/human-faces-dataset\")\n",
        "\n",
        "print(\"Path to dataset files:\", path)"
      ]
    },
    {
      "cell_type": "code",
      "execution_count": null,
      "metadata": {
        "colab": {
          "base_uri": "https://localhost:8080/"
        },
        "id": "z5JA5Y4ZZD7f",
        "outputId": "8533bb14-3029-4f68-f782-e940661c1c00"
      },
      "outputs": [
        {
          "name": "stdout",
          "output_type": "stream",
          "text": [
            "Number of files in '/kaggle/input/human-faces-dataset/Human Faces Dataset/Real Images': 5000\n"
          ]
        }
      ],
      "source": [
        "import os\n",
        "\n",
        "directory = '/kaggle/input/human-faces-dataset/Human Faces Dataset/Real Images'\n",
        "if not os.path.exists(directory):\n",
        "    print(f\"Directory '{directory}' does not exist.\")\n",
        "else:\n",
        "    num_files = sum(len(files) for _, _, files in os.walk(directory))\n",
        "    print(f\"Number of files in '{directory}': {num_files}\")"
      ]
    },
    {
      "cell_type": "code",
      "execution_count": null,
      "metadata": {
        "id": "ePFMIihGZX9d"
      },
      "outputs": [],
      "source": [
        "import os\n",
        "import shutil\n",
        "\n",
        "# Specify the source and destination folder paths\n",
        "source_folders = ['/content/daylight', '/content/dim_light', '/content/room_light', '/content/room_light_shade']\n",
        "destination_folder = '/content/You'\n",
        "\n",
        "# Create the destination folder if it doesn't exist\n",
        "os.makedirs(destination_folder, exist_ok=True)\n",
        "\n",
        "for source_folder in source_folders:\n",
        "    os.chdir(source_folder)\n",
        "    for file in os.listdir():\n",
        "        # Create a new filename by including the original folder name\n",
        "        new_filename = f\"{os.path.basename(source_folder)}_{file}\"\n",
        "        source_path = os.path.join(source_folder, file)\n",
        "        destination_path = os.path.join(destination_folder, new_filename)\n",
        "        shutil.copy2(source_path, destination_path)"
      ]
    },
    {
      "cell_type": "code",
      "execution_count": null,
      "metadata": {
        "colab": {
          "base_uri": "https://localhost:8080/"
        },
        "id": "FnOGyBrKaFQ_",
        "outputId": "1906cf47-ed47-4f1f-acb0-6b410309213a"
      },
      "outputs": [
        {
          "name": "stdout",
          "output_type": "stream",
          "text": [
            "Number of files in '/content/not Ishan': 5000\n"
          ]
        }
      ],
      "source": [
        "import os\n",
        "\n",
        "directory = '/content/not You'\n",
        "if not os.path.exists(directory):\n",
        "    print(f\"Directory '{directory}' does not exist.\")\n",
        "else:\n",
        "    num_files = sum(len(files) for _, _, files in os.walk(directory))\n",
        "    print(f\"Number of files in '{directory}': {num_files}\")"
      ]
    },
    {
      "cell_type": "code",
      "execution_count": null,
      "metadata": {
        "id": "QKAJgSO0aF25"
      },
      "outputs": [],
      "source": [
        "# creates a directory named not You inside the /content/ directory using the mkdir command and then copies all the contents of original data into new directory\n",
        "!mkdir /content/not\\ You\n",
        "!cp '/kaggle/input/human-faces-dataset/Human Faces Dataset/Real Images'/* '/content/not You'/"
      ]
    }
  ],
  "metadata": {
    "colab": {
      "provenance": []
    },
    "kernelspec": {
      "display_name": "Python 3",
      "name": "python3"
    },
    "language_info": {
      "name": "python"
    }
  },
  "nbformat": 4,
  "nbformat_minor": 0
}
